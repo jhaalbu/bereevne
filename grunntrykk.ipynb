{
 "cells": [
  {
   "cell_type": "code",
   "execution_count": 70,
   "metadata": {},
   "outputs": [],
   "source": [
    "import math\n",
    "import pandas as pd\n",
    "import numpy as np\n",
    "from matplotlib import pyplot as plt\n"
   ]
  },
  {
   "cell_type": "markdown",
   "metadata": {},
   "source": [
    "Utrekning av bæreevne, forutsetter grunnvassnivå under fundament"
   ]
  },
  {
   "cell_type": "code",
   "execution_count": 71,
   "metadata": {},
   "outputs": [
    {
     "name": "stdout",
     "output_type": "stream",
     "text": [
      "brukt helling:  0.5\n"
     ]
    }
   ],
   "source": [
    "#Input\n",
    "phi = 38 #Grader\n",
    "attraksjon = 10 #kPa\n",
    "gamma_m = 1.4\n",
    "Fv = 500 #kN  Ikkje brukt i berekning av plot for fundamentbredde mot vertikalspenning, kunn som sjekk for ruhet\n",
    "Fh = 50 #kN kkje brukt i berekning av plot for fundamentbredde mot vertikalspenning, kunn som sjekk for ruhet\n",
    "gamma = 18 #kN/m3  \n",
    "ruhet = 0.17 #\n",
    "helling = 2 #Flatt - > stort tall\n",
    "helling_forhold = 1/helling\n",
    "print('brukt helling: ', helling_forhold)"
   ]
  },
  {
   "cell_type": "code",
   "execution_count": 72,
   "metadata": {},
   "outputs": [],
   "source": [
    "b0 = 3 #m\n",
    "fot_dybde = 1"
   ]
  },
  {
   "cell_type": "code",
   "execution_count": 73,
   "metadata": {},
   "outputs": [],
   "source": [
    "tan_phi = math.tan(math.radians(phi))\n",
    "tan_ro = tan_phi/gamma_m\n",
    "ro = phi/gamma_m\n",
    "gamma_eff = gamma - 10\n",
    "p_eff = fot_dybde * gamma #TODO grunnvatn forutsetter no grunnvatn i nivå med underkant fundament\n",
    "qv = Fv/b0"
   ]
  },
  {
   "cell_type": "code",
   "execution_count": 74,
   "metadata": {},
   "outputs": [
    {
     "name": "stdout",
     "output_type": "stream",
     "text": [
      "0.16904889481795382\n"
     ]
    }
   ],
   "source": [
    "#Regner ut ruhet, ut fra antatt laster\n",
    "def rb(Fh, B0, qv, a, tan_ro):\n",
    "    rb = (Fh/b0) / ((qv + attraksjon) * tan_ro)\n",
    "    return rb\n",
    "\n",
    "print(rb(Fh, b0, qv, attraksjon, tan_ro))"
   ]
  },
  {
   "cell_type": "code",
   "execution_count": 75,
   "metadata": {},
   "outputs": [
    {
     "name": "stdout",
     "output_type": "stream",
     "text": [
      "nq:  14.070201797452675 ng: 13.58087277277435\n"
     ]
    }
   ],
   "source": [
    "#Berekning av Nq og Ngamma\n",
    "def n_fakt(tan_ro, ruhet, helling):\n",
    "    tan_alpha = tan_ro + math.sqrt(1+tan_ro**2)\n",
    "    N = tan_alpha**2\n",
    "    r = math.atan(tan_ro)\n",
    "    Kp = (2*N)/(N+1) * math.exp((math.pi/2 + r)*tan_ro)\n",
    "    x0 = 2*(1-ruhet)*tan_ro\n",
    "    r_r = math.atan(tan_ro)*180/math.pi\n",
    "    ap = 0.25*math.pi + 0.5*r\n",
    "    f_omega = 1/(ruhet+0.0001) * (1 - (math.sqrt(1 - (ruhet**2))))\n",
    "    w_rad= math.atan(f_omega * math.tan(math.pi/4 + 0.5 * r))\n",
    "    w = math.degrees(w_rad)\n",
    "    s = (1/helling)/tan_ro\n",
    "    aa_rad = math.pi/4 - r/2\n",
    "    x0_list = []\n",
    "    tanpsi = []\n",
    "    psi = []\n",
    "    c = []\n",
    "    Rot = []\n",
    "    xc = []\n",
    "    diff = []\n",
    "    n_gamma_list = []\n",
    "    for i in range(20):\n",
    "        if i == 0:\n",
    "            x0_list.append(x0)\n",
    "        else:\n",
    "            x0_list.append(xc[i-1])\n",
    "        tanpsi.append(x0_list[i]-tan_ro)\n",
    "        psi.append(math.atan(tanpsi[i]))\n",
    "        c.append((1+tanpsi[i]*tan_ro)*Kp*math.exp(2*psi[i]*tan_ro)-1)\n",
    "        Rot.append((1-ruhet)**2 + (1-ruhet)/c[i])\n",
    "        xc.append((1-ruhet+math.sqrt(Rot[i]))*tan_ro)\n",
    "        diff.append((x0_list[i]-xc[i])**2)\n",
    "        if diff[i] < 0.000001:\n",
    "            n_gamma_list.append((2*c[i]*xc[i]+tan_ro)/(1+(tanpsi[i]**2)))\n",
    "        else:\n",
    "            n_gamma_list.append(1000)\n",
    "    Nq = ((N+1)+(N-1)*math.cos(2*w_rad)) * math.exp((math.pi - 2*w_rad)*tan_ro)/2\n",
    "    N_gamma = min(n_gamma_list)\n",
    "        \n",
    "    return Nq, N_gamma\n",
    "    \n",
    "nq, ng = n_fakt(tan_ro, rb(Fh, b0, qv, attraksjon, tan_ro), helling)\n",
    "print('nq: ', nq, 'ng:', ng)\n",
    "    "
   ]
  },
  {
   "cell_type": "code",
   "execution_count": 76,
   "metadata": {},
   "outputs": [
    {
     "name": "stdout",
     "output_type": "stream",
     "text": [
      "fsq:  0.26\n",
      "fsa:  0.505\n"
     ]
    }
   ],
   "source": [
    "#Reduksjonsfaktor for hellende terreng\n",
    "if helling_forhold == 0:\n",
    "    fsq = 1\n",
    "    fsa = 1\n",
    "elif helling_forhold > 0 and helling_forhold <= 0.31:\n",
    "    fsa = 1-(1.0667*helling_forhold)\n",
    "    fsq = 1-(1.633*helling_forhold)\n",
    "elif helling_forhold > 0.31 and helling_forhold <= 0.41:\n",
    "    fsa = 0.68-0.95*(helling_forhold-0.3)\n",
    "    fsq = 0.51-1.3*(helling_forhold-0.3)\n",
    "elif helling_forhold > 0.41 and helling_forhold <= 0.51:\n",
    "    fsa = 0.585-0.8*(helling_forhold-0.4)\n",
    "    fsq = 0.38-1.2*(helling_forhold-0.4)\n",
    "elif helling_forhold > 0.51 and helling_forhold <= 0.61:\n",
    "    fsa = 0.505-0.7*(helling_forhold-0.5)\n",
    "    fsq = 0.26-0.8*(helling_forhold-0.5)\n",
    "elif helling_forhold > 0.61 and helling_forhold <= 0.71:\n",
    "    fsa = 0.435-0.65*(helling_forhold-0.6)\n",
    "    fsq = 0.18-0.65*(helling_forhold-0.6)\n",
    "elif helling_forhold > 0.71 and helling_forhold <= 0.75:\n",
    "    fsa = 0.37-0.9*(helling_forhold-0.7)\n",
    "    fsq = 0.115-0.7*(helling_forhold-0.7)\n",
    "else:\n",
    "    fsa = 0\n",
    "    fsq = 0\n",
    "    \n",
    "print('fsq: ', fsq)\n",
    "print('fsa: ', fsa)\n",
    "\n",
    "#TODO kap 6.2 i HB v220 anna metode for utrekning av fsa og fsq\n",
    "\n",
    "#fsa = math.exp**(-2 * )\n",
    "    \n",
    "    "
   ]
  },
  {
   "cell_type": "code",
   "execution_count": 77,
   "metadata": {},
   "outputs": [],
   "source": [
    "Nq, Ngamma = n_fakt(tan_ro, ruhet, helling)"
   ]
  },
  {
   "cell_type": "code",
   "execution_count": 78,
   "metadata": {},
   "outputs": [],
   "source": [
    "#Set fundamentbredder som skal reknes ut\n",
    "fra = 1.5\n",
    "til = 4\n",
    "step = 0.1\n",
    "#Sett fundamentdjuper som skal reknes ut (4 stk)\n",
    "fundamentdjupner = [0, 0.5, 1, 1.5]"
   ]
  },
  {
   "cell_type": "markdown",
   "metadata": {},
   "source": [
    "sigmalist05 = []\n",
    "sigmalist1 = []\n",
    "sigmalist15 = []\n",
    "b0liste05 = []\n",
    "b0liste1 = []\n",
    "b0liste15 = []"
   ]
  },
  {
   "cell_type": "code",
   "execution_count": 79,
   "metadata": {},
   "outputs": [],
   "source": [
    "#Definerer lister lagring av data fra berekninger \n",
    "sigmalist0 = [] \n",
    "sigmalist05 = [] \n",
    "sigmalist1 = [] \n",
    "sigmalist15 = []\n",
    "b0liste0 = [] \n",
    "b0liste05 = [] \n",
    "b0liste1 = [] \n",
    "b0liste15 = []"
   ]
  },
  {
   "cell_type": "code",
   "execution_count": 80,
   "metadata": {},
   "outputs": [],
   "source": [
    "#Beregner igjennom tilfeller med definerte fundamentdjupner og \n",
    "for b in np.arange(fra, til, step):\n",
    "    b_0 = b\n",
    "    sigmalist0.append(fsq * (Nq * gamma * fundamentdjupner[0]) + (0.5 * Ngamma * gamma_eff * b_0) + (Nq * fsa -1) * attraksjon)\n",
    "    b0liste0.append(b_0)\n",
    "    \n",
    "for b in np.arange(fra, til, step):\n",
    "    b_0 = b\n",
    "    sigmalist05.append(fsq * (Nq * gamma * 0.5) + (0.5 * Ngamma * gamma_eff * b_0) + (Nq * fsa -1) * attraksjon)\n",
    "    b0liste05.append(b_0)\n",
    "    \n",
    "for b in np.arange(fra, til, step):\n",
    "    b_0 = b\n",
    "    sigmalist1.append(fsq * (Nq * gamma * 1) + (0.5 * Ngamma * gamma_eff * b_0) + (Nq * fsa -1) * attraksjon)\n",
    "    b0liste1.append(b_0)\n",
    "    \n",
    "for b in np.arange(fra, til, step):\n",
    "    b_0 = b\n",
    "    sigmalist15.append(fsq * (Nq * gamma * 1.5) + (0.5 * Ngamma * gamma_eff * b_0) + (Nq * fsa -1) * attraksjon)\n",
    "    b0liste15.append(b_0)"
   ]
  },
  {
   "cell_type": "code",
   "execution_count": 81,
   "metadata": {},
   "outputs": [
    {
     "data": {
      "text/plain": [
       "<matplotlib.legend.Legend at 0x26e5c39ddc8>"
      ]
     },
     "execution_count": 81,
     "metadata": {},
     "output_type": "execute_result"
    },
    {
     "data": {
      "image/png": "[encoded data removed]",
      "text/plain": [
       "<Figure size 720x360 with 1 Axes>"
      ]
     },
     "metadata": {
      "needs_background": "light"
     },
     "output_type": "display_data"
    }
   ],
   "source": [
    "fix, ax = plt.subplots(figsize=(10,5))\n",
    "ax.plot(b0liste, sigmalist0, label='på terreng')\n",
    "ax.plot(b0liste, sigmalist05, label='0,5 m under terreng')\n",
    "ax.plot(b0liste, sigmalist1, label='1 meter under terreng')\n",
    "ax.plot(b0liste, sigmalist15, label='1,5 meter under terreng')\n",
    "ax.grid(True)\n",
    "ax.set_ylabel('Vertikalspenning (kPa)')\n",
    "ax.set_xlabel('Effektiv fundamentbredde (b0) (m)')\n",
    "ax.legend()"
   ]
  }
 ],
 "metadata": {
  "kernelspec": {
   "display_name": "Python 3",
   "language": "python",
   "name": "python3"
  },
  "language_info": {
   "codemirror_mode": {
    "name": "ipython",
    "version": 3
   },
   "file_extension": ".py",
   "mimetype": "text/x-python",
   "name": "python",
   "nbconvert_exporter": "python",
   "pygments_lexer": "ipython3",
   "version": "3.7.6"
  }
 },
 "nbformat": 4,
 "nbformat_minor": 4
}
